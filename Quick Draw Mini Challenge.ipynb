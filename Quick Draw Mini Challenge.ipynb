{
 "cells": [
  {
   "cell_type": "code",
   "execution_count": 1,
   "metadata": {},
   "outputs": [
    {
     "name": "stderr",
     "output_type": "stream",
     "text": [
      "Using TensorFlow backend.\n"
     ]
    }
   ],
   "source": [
    "%matplotlib inline\n",
    "import matplotlib.pyplot as plt\n",
    "\n",
    "import keras\n",
    "#from keras.datasets import cifar10\n",
    "from keras.preprocessing.image import ImageDataGenerator\n",
    "from keras.models import Sequential, Model, load_model\n",
    "from keras.layers import Dense, Dropout, Activation, Flatten, Input\n",
    "from keras.layers import Conv2D, MaxPooling2D\n",
    "import keras.backend as K\n",
    "\n",
    "import tensorflow as tf\n",
    "\n",
    "import os\n",
    "import pickle\n",
    "import numpy as np\n",
    "import pandas as pd\n",
    "\n",
    "from sklearn.preprocessing import OneHotEncoder\n",
    "from sklearn.model_selection import train_test_split\n",
    "\n",
    "# Provide the path here\n",
    "os.chdir('/Users/ianlo/Documents/Data Analyitcs & Data Science/Deep Learning Developer Course/minichallenge01/')"
   ]
  },
  {
   "cell_type": "code",
   "execution_count": 2,
   "metadata": {},
   "outputs": [
    {
     "name": "stdout",
     "output_type": "stream",
     "text": [
      "2.0.8\n",
      "1.3.0\n"
     ]
    }
   ],
   "source": [
    "print(keras.__version__)\n",
    "print(tf.__version__)"
   ]
  },
  {
   "cell_type": "code",
   "execution_count": 3,
   "metadata": {},
   "outputs": [
    {
     "data": {
      "text/plain": [
       "40"
      ]
     },
     "execution_count": 3,
     "metadata": {},
     "output_type": "execute_result"
    }
   ],
   "source": [
    "# example_per_class = 10000\n",
    "\n",
    "# classes = ['airplane','alarm clock','ambulance','angel','ant','anvil','apple','axe','banana','bandage','barn',\n",
    "#            'baseball bat','baseball','basket','basketball','bathtub','beach','bear','beard','bed','bee','belt',\n",
    "#            'bicycle','binoculars','birthday cake','blueberry','book','boomerang','bottlecap','bowtie','bracelet',\n",
    "#            'brain','bread','broom','bulldozer','bus','bush','butterfly','cactus','cake','calculator','calendar',\n",
    "#            'camel','camera','campfire','candle','cannon','canoe','car','carrot','cello','computer','cat',\n",
    "#            'chandelier','clock','cloud','coffee cup','compass','cookie','couch','cow','crab','crayon','crocodile',\n",
    "#            'crown','cup','diamond','dog','dolphin','donut','dragon','dresser','drill','drums','duck','dumbbell',\n",
    "#            'ear','elbow','elephant','envelope','eraser','eye','eyeglasses','face','fan','feather','fence','finger',\n",
    "#            'fire hydrant','fireplace','firetruck','fish','flamingo','flashlight','flip flops','floor lamp',\n",
    "#            'flower','flying saucer','foot','fork']\n",
    "\n",
    "# example_per_class = 5000\n",
    "\n",
    "# classes = ['airplane','alarm clock','ambulance','angel','ant','anvil','apple','axe',\n",
    "#            'banana','bandage','barn','baseball bat','baseball','basket',\n",
    "#            'basketball','bathtub','beach','bear','beard','bed','bee','belt',\n",
    "#            'bicycle','binoculars','birthday cake','blueberry',\n",
    "#            'book','boomerang','bottlecap','bowtie','bracelet','brain',\n",
    "#            'bread','broom','bulldozer','bus','bush','butterfly','cactus','cake']\n",
    "\n",
    "example_per_class = 2000\n",
    "\n",
    "classes = ['airplane','alarm clock','ambulance','angel','ant','anvil','apple','axe',\n",
    "           'banana','bandage','barn','baseball bat','baseball','basket',\n",
    "           'basketball','bathtub','beach','bear','beard','bed','bee','belt',\n",
    "           'bicycle','binoculars','birthday cake','blueberry',\n",
    "           'book','boomerang','bottlecap','bowtie','bracelet','brain',\n",
    "           'bread','broom','bulldozer','bus','bush','butterfly','cactus','cake']\n",
    "\n",
    "len(classes)"
   ]
  },
  {
   "cell_type": "code",
   "execution_count": 4,
   "metadata": {
    "collapsed": true
   },
   "outputs": [],
   "source": [
    "# #This cell is only if you are loading the data from scratch\n",
    "# # get the data \n",
    "# quickdraws = [np.load(\"../../data/{}.npy\".format(qdraw))[:num_examples_per_class] for qdraw in classes]\n",
    "\n",
    "# # Concat the arrays together\n",
    "# x_data = np.concatenate(quickdraws,axis=0)\n",
    "\n",
    "# x_data.shape"
   ]
  },
  {
   "cell_type": "markdown",
   "metadata": {},
   "source": [
    "### Load the data set from npy file"
   ]
  },
  {
   "cell_type": "code",
   "execution_count": 5,
   "metadata": {},
   "outputs": [
    {
     "data": {
      "text/plain": [
       "(80000, 784)"
      ]
     },
     "execution_count": 5,
     "metadata": {},
     "output_type": "execute_result"
    }
   ],
   "source": [
    "#x_data = pd.DataFrame(np.load(\"./x_data_100_classes_10k.npy\"))\n",
    "#x_data = np.load(\"./x_data_40_classes_5k.npy\")\n",
    "x_data = np.load(\"./x_data_40_classes_2k.npy\")\n",
    "\n",
    "x_data.shape"
   ]
  },
  {
   "cell_type": "markdown",
   "metadata": {},
   "source": [
    "The x_data is a 28 x 28 matrix flattened into a single row per image. There is no labels so we need to create the labels. Assuming that each 10,000 block belongs to 1 class"
   ]
  },
  {
   "cell_type": "code",
   "execution_count": 6,
   "metadata": {
    "collapsed": true
   },
   "outputs": [],
   "source": [
    "#x_data.head(5)\n",
    "#x_data = x_data.as_matrix"
   ]
  },
  {
   "cell_type": "code",
   "execution_count": 7,
   "metadata": {},
   "outputs": [
    {
     "data": {
      "text/plain": [
       "(80000,)"
      ]
     },
     "execution_count": 7,
     "metadata": {},
     "output_type": "execute_result"
    }
   ],
   "source": [
    "labels = [np.full((example_per_class,), classes.index(qdraw)) for qdraw in classes]\n",
    "\n",
    "## Concat the arrays together\n",
    "y_data = np.concatenate(labels,axis=0)\n",
    "y_data.shape"
   ]
  },
  {
   "cell_type": "markdown",
   "metadata": {},
   "source": [
    "Displaying the objects"
   ]
  },
  {
   "cell_type": "code",
   "execution_count": 8,
   "metadata": {
    "collapsed": true
   },
   "outputs": [],
   "source": [
    "def show_object(obj):\n",
    "    # Reshape 784 array into 28x28 image\n",
    "    image = obj.reshape([28,28])\n",
    "    fig, axes = plt.subplots(1, )\n",
    "    fig.subplots_adjust(hspace=0.5, wspace=0.5)\n",
    "    plt.imshow(image, cmap='gray_r')\n",
    "    plt.show()"
   ]
  },
  {
   "cell_type": "code",
   "execution_count": 9,
   "metadata": {},
   "outputs": [
    {
     "data": {
      "image/png": "[encoded data removed]",
      "text/plain": [
       "<matplotlib.figure.Figure at 0x1237f26a0>"
      ]
     },
     "metadata": {},
     "output_type": "display_data"
    },
    {
     "name": "stdout",
     "output_type": "stream",
     "text": [
      "book\n"
     ]
    }
   ],
   "source": [
    "show_object(x_data[53000])\n",
    "# the y_data starts at 0 hence index 5 is actually anvil\n",
    "print(classes[y_data[53000]])"
   ]
  },
  {
   "cell_type": "code",
   "execution_count": 10,
   "metadata": {},
   "outputs": [
    {
     "name": "stdout",
     "output_type": "stream",
     "text": [
      "(80000, 784)\n",
      "(80000,)\n"
     ]
    }
   ],
   "source": [
    "print(x_data.shape)\n",
    "print(y_data.shape)"
   ]
  },
  {
   "cell_type": "markdown",
   "metadata": {
    "collapsed": true
   },
   "source": [
    "Shuffling the data to ensure that the training is done across the different classes randomly"
   ]
  },
  {
   "cell_type": "code",
   "execution_count": 15,
   "metadata": {
    "collapsed": true
   },
   "outputs": [],
   "source": [
    "#shuffling function\n",
    "def unison_shuffled_copies(a, b):\n",
    "    assert len(a) == len(b)\n",
    "    p = np.random.permutation(len(a))\n",
    "    return a[p], b[p]"
   ]
  },
  {
   "cell_type": "code",
   "execution_count": 16,
   "metadata": {
    "collapsed": true
   },
   "outputs": [],
   "source": [
    "x_data, y_data = unison_shuffled_copies(x_data, y_data)"
   ]
  },
  {
   "cell_type": "code",
   "execution_count": 17,
   "metadata": {},
   "outputs": [
    {
     "name": "stdout",
     "output_type": "stream",
     "text": [
      "binoculars\n"
     ]
    }
   ],
   "source": [
    "print(classes[y_data[0]])\n",
    "#y_data[0]"
   ]
  },
  {
   "cell_type": "code",
   "execution_count": 18,
   "metadata": {},
   "outputs": [
    {
     "data": {
      "image/png": "[encoded data removed]",
      "text/plain": [
       "<matplotlib.figure.Figure at 0x127677208>"
      ]
     },
     "metadata": {},
     "output_type": "display_data"
    }
   ],
   "source": [
    "show_object(x_data[0])"
   ]
  },
  {
   "cell_type": "markdown",
   "metadata": {},
   "source": [
    "### Create train and test set"
   ]
  },
  {
   "cell_type": "code",
   "execution_count": 19,
   "metadata": {
    "collapsed": true
   },
   "outputs": [],
   "source": [
    "# train test split based on random sampling\n",
    "x_train, x_test, y_train, y_test = train_test_split(x_data, y_data, test_size=0.15, random_state=42)"
   ]
  },
  {
   "cell_type": "code",
   "execution_count": 20,
   "metadata": {},
   "outputs": [
    {
     "name": "stdout",
     "output_type": "stream",
     "text": [
      "(68000, 784)\n",
      "(68000,)\n",
      "(12000, 784)\n",
      "(12000,)\n"
     ]
    }
   ],
   "source": [
    "print(x_train.shape)\n",
    "print(y_train.shape)\n",
    "print(x_test.shape)\n",
    "print(y_test.shape)"
   ]
  },
  {
   "cell_type": "markdown",
   "metadata": {},
   "source": [
    "### Model parameters"
   ]
  },
  {
   "cell_type": "code",
   "execution_count": 21,
   "metadata": {
    "collapsed": true
   },
   "outputs": [],
   "source": [
    "batch_size = 64\n",
    "num_classes = len(classes)\n",
    "epochs = 50\n",
    "data_augmentation = True\n",
    "#num_predictions = 20\n",
    "save_dir = os.path.join(os.getcwd(), 'saved_models')\n",
    "model_name = 'quickdraw_CNN.h5'"
   ]
  },
  {
   "cell_type": "markdown",
   "metadata": {},
   "source": [
    "Convert class vectors to binary class matrices"
   ]
  },
  {
   "cell_type": "code",
   "execution_count": 22,
   "metadata": {
    "collapsed": true
   },
   "outputs": [],
   "source": [
    "# Convert class vectors to binary class matrices.\n",
    "y_train = keras.utils.to_categorical(y_train, num_classes)\n",
    "y_test = keras.utils.to_categorical(y_test, num_classes)"
   ]
  },
  {
   "cell_type": "markdown",
   "metadata": {},
   "source": [
    "Normalise the input vectors"
   ]
  },
  {
   "cell_type": "code",
   "execution_count": 23,
   "metadata": {
    "collapsed": true
   },
   "outputs": [],
   "source": [
    "x_train = x_train.astype('float32')\n",
    "x_test = x_test.astype('float32')\n",
    "x_train /= 255\n",
    "x_test /= 255"
   ]
  },
  {
   "cell_type": "code",
   "execution_count": 24,
   "metadata": {},
   "outputs": [
    {
     "data": {
      "text/plain": [
       "(68000, 28, 28, 1)"
      ]
     },
     "execution_count": 24,
     "metadata": {},
     "output_type": "execute_result"
    }
   ],
   "source": [
    "x_train = x_train.reshape([x_train.shape[0],28,28,1])\n",
    "x_train.shape"
   ]
  },
  {
   "cell_type": "code",
   "execution_count": 25,
   "metadata": {},
   "outputs": [
    {
     "data": {
      "text/plain": [
       "(12000, 28, 28, 1)"
      ]
     },
     "execution_count": 25,
     "metadata": {},
     "output_type": "execute_result"
    }
   ],
   "source": [
    "x_test = x_test.reshape([x_test.shape[0],28,28,1])\n",
    "x_test.shape"
   ]
  },
  {
   "cell_type": "markdown",
   "metadata": {},
   "source": [
    "### Building the model"
   ]
  },
  {
   "cell_type": "code",
   "execution_count": 33,
   "metadata": {
    "collapsed": true
   },
   "outputs": [],
   "source": [
    "#Inp = Input(shape=(28,28,3),name = 'Input_layer')\n",
    "Inp = Input(shape=(28,28,1),name = 'Input_layer')\n",
    "\n",
    "#ConvBlock 01\n",
    "conv01 = Conv2D(32, (3, 3), padding='same',activation = 'relu', input_shape=Inp.shape,name = 'Conv01_layer')(Inp)\n",
    "conv02 = Conv2D(32, (3, 3),activation = 'relu',name = 'Conv02_layer')(conv01)\n",
    "maxpool_01 = MaxPooling2D(pool_size=(2, 2),name = 'MaxPool01_layer')(conv02)\n",
    "drop01 = Dropout(0.25,name = 'Dropout01_layer')(maxpool_01)\n",
    "\n",
    "#Convblock 02\n",
    "conv03 = Conv2D(64, (3, 3), padding='same',activation = 'relu',name = 'Conv03_layer')(drop01)\n",
    "conv04 = Conv2D(64, (3, 3),activation = 'relu',name = 'Conv04_layer')(conv03)\n",
    "maxpool_02 = MaxPooling2D(pool_size=(2, 2),name = 'MaxPool02_layer')(conv04)\n",
    "drop02 = Dropout(0.25,name = 'Dropout02_layer')(maxpool_02)\n",
    "\n",
    "#Convblock 03\n",
    "conv05 = Conv2D(128, (3, 3), padding='same',activation = 'relu',name = 'Conv05_layer')(drop02)\n",
    "conv06 = Conv2D(128, (3, 3),activation = 'relu',name = 'Conv06_layer')(conv05)\n",
    "maxpool_03 = MaxPooling2D(pool_size=(2, 2),name = 'MaxPool03_layer')(conv06)\n",
    "drop03 = Dropout(0.25,name = 'Dropout03_layer')(maxpool_03)\n",
    "\n",
    "# Fully Connected Dense block\n",
    "x = Flatten(name = 'Flatten_layer')(drop03)\n",
    "x = Dense(1024, activation='relu',name = 'Dense01_layer')(x)\n",
    "x = Dense(512, activation='relu',name = 'Dense02_layer')(x)\n",
    "x = Dropout(0.2,name = 'Dropout04_layer')(x)\n",
    "logits_layer = Dense(num_classes, name= 'logits_layer')(x)\n",
    "output = Activation('softmax',name = 'Sofftmax_layer')(logits_layer)"
   ]
  },
  {
   "cell_type": "code",
   "execution_count": 34,
   "metadata": {
    "collapsed": true
   },
   "outputs": [],
   "source": [
    "# Define model inputs and output\n",
    "model = Model(Inp, output)"
   ]
  },
  {
   "cell_type": "code",
   "execution_count": 35,
   "metadata": {},
   "outputs": [
    {
     "name": "stdout",
     "output_type": "stream",
     "text": [
      "_________________________________________________________________\n",
      "Layer (type)                 Output Shape              Param #   \n",
      "=================================================================\n",
      "Input_layer (InputLayer)     (None, 28, 28, 1)         0         \n",
      "_________________________________________________________________\n",
      "Conv01_layer (Conv2D)        (None, 28, 28, 32)        320       \n",
      "_________________________________________________________________\n",
      "Conv02_layer (Conv2D)        (None, 26, 26, 32)        9248      \n",
      "_________________________________________________________________\n",
      "MaxPool01_layer (MaxPooling2 (None, 13, 13, 32)        0         \n",
      "_________________________________________________________________\n",
      "Dropout01_layer (Dropout)    (None, 13, 13, 32)        0         \n",
      "_________________________________________________________________\n",
      "Conv03_layer (Conv2D)        (None, 13, 13, 64)        18496     \n",
      "_________________________________________________________________\n",
      "Conv04_layer (Conv2D)        (None, 11, 11, 64)        36928     \n",
      "_________________________________________________________________\n",
      "MaxPool02_layer (MaxPooling2 (None, 5, 5, 64)          0         \n",
      "_________________________________________________________________\n",
      "Dropout02_layer (Dropout)    (None, 5, 5, 64)          0         \n",
      "_________________________________________________________________\n",
      "Conv05_layer (Conv2D)        (None, 5, 5, 128)         73856     \n",
      "_________________________________________________________________\n",
      "Conv06_layer (Conv2D)        (None, 3, 3, 128)         147584    \n",
      "_________________________________________________________________\n",
      "MaxPool03_layer (MaxPooling2 (None, 1, 1, 128)         0         \n",
      "_________________________________________________________________\n",
      "Dropout03_layer (Dropout)    (None, 1, 1, 128)         0         \n",
      "_________________________________________________________________\n",
      "Flatten_layer (Flatten)      (None, 128)               0         \n",
      "_________________________________________________________________\n",
      "Dense01_layer (Dense)        (None, 1024)              132096    \n",
      "_________________________________________________________________\n",
      "Dense02_layer (Dense)        (None, 512)               524800    \n",
      "_________________________________________________________________\n",
      "Dropout04_layer (Dropout)    (None, 512)               0         \n",
      "_________________________________________________________________\n",
      "logits_layer (Dense)         (None, 40)                20520     \n",
      "_________________________________________________________________\n",
      "Sofftmax_layer (Activation)  (None, 40)                0         \n",
      "=================================================================\n",
      "Total params: 963,848\n",
      "Trainable params: 963,848\n",
      "Non-trainable params: 0\n",
      "_________________________________________________________________\n"
     ]
    }
   ],
   "source": [
    "model.summary()"
   ]
  },
  {
   "cell_type": "markdown",
   "metadata": {},
   "source": [
    "Configure model parameters"
   ]
  },
  {
   "cell_type": "code",
   "execution_count": 36,
   "metadata": {
    "collapsed": true
   },
   "outputs": [],
   "source": [
    "# initiate RMSprop optimizer\n",
    "opt = keras.optimizers.rmsprop(lr=0.0001, decay=1e-6)\n",
    "\n",
    "# Let's train the model using RMSprop\n",
    "model.compile(loss='categorical_crossentropy',\n",
    "              optimizer=opt,\n",
    "              metrics=['accuracy'])"
   ]
  },
  {
   "cell_type": "code",
   "execution_count": 37,
   "metadata": {},
   "outputs": [
    {
     "name": "stdout",
     "output_type": "stream",
     "text": [
      "Using real-time data augmentation.\n"
     ]
    }
   ],
   "source": [
    "print('Using real-time data augmentation.')\n",
    "# This will do preprocessing and realtime data augmentation:\n",
    "datagen = ImageDataGenerator(\n",
    "    rotation_range=30,  # randomly rotate images in the range (degrees, 0 to 180)\n",
    "    width_shift_range=0.1,  # randomly shift images horizontally (fraction of total width)\n",
    "    height_shift_range=0.1,  # randomly shift images vertically (fraction of total height)\n",
    "    horizontal_flip=True,  # randomly flip images\n",
    "    vertical_flip=False)  # randomly flip images"
   ]
  },
  {
   "cell_type": "code",
   "execution_count": 38,
   "metadata": {
    "collapsed": true
   },
   "outputs": [],
   "source": [
    "# Compute quantities required for feature-wise normalization\n",
    "# (std, mean, and principal components if ZCA whitening is applied).\n",
    "datagen.fit(x_train)"
   ]
  },
  {
   "cell_type": "code",
   "execution_count": 39,
   "metadata": {},
   "outputs": [
    {
     "name": "stdout",
     "output_type": "stream",
     "text": [
      "Epoch 1/50\n",
      "1062/1062 [==============================] - 258s - loss: 3.2164 - acc: 0.1326 - val_loss: 2.5857 - val_acc: 0.2920\n",
      "Epoch 2/50\n",
      "1062/1062 [==============================] - 284s - loss: 2.6624 - acc: 0.2684 - val_loss: 2.1304 - val_acc: 0.4191\n",
      "Epoch 3/50\n",
      "1062/1062 [==============================] - 287s - loss: 2.3681 - acc: 0.3486 - val_loss: 1.8751 - val_acc: 0.4767\n",
      "Epoch 4/50\n",
      "1062/1062 [==============================] - 271s - loss: 2.1566 - acc: 0.4004 - val_loss: 1.6576 - val_acc: 0.5337\n",
      "Epoch 5/50\n",
      "1062/1062 [==============================] - 272s - loss: 2.0076 - acc: 0.4402 - val_loss: 1.5083 - val_acc: 0.5782\n",
      "Epoch 6/50\n",
      "1062/1062 [==============================] - 284s - loss: 1.8884 - acc: 0.4731 - val_loss: 1.4346 - val_acc: 0.5948\n",
      "Epoch 7/50\n",
      "1062/1062 [==============================] - 263s - loss: 1.8008 - acc: 0.4963 - val_loss: 1.3301 - val_acc: 0.6242\n",
      "Epoch 8/50\n",
      "1062/1062 [==============================] - 257s - loss: 1.7227 - acc: 0.5175 - val_loss: 1.2632 - val_acc: 0.6475\n",
      "Epoch 9/50\n",
      "1062/1062 [==============================] - 253s - loss: 1.6600 - acc: 0.5344 - val_loss: 1.2011 - val_acc: 0.6635\n",
      "Epoch 10/50\n",
      "1062/1062 [==============================] - 254s - loss: 1.6020 - acc: 0.5515 - val_loss: 1.1983 - val_acc: 0.6619\n",
      "Epoch 11/50\n",
      "1062/1062 [==============================] - 251s - loss: 1.5531 - acc: 0.5631 - val_loss: 1.1557 - val_acc: 0.6765\n",
      "Epoch 12/50\n",
      "1062/1062 [==============================] - 255s - loss: 1.5067 - acc: 0.5763 - val_loss: 1.0959 - val_acc: 0.6917\n",
      "Epoch 13/50\n",
      "1062/1062 [==============================] - 247s - loss: 1.4728 - acc: 0.5877 - val_loss: 1.0817 - val_acc: 0.6971\n",
      "Epoch 14/50\n",
      "1062/1062 [==============================] - 229s - loss: 1.4321 - acc: 0.5967 - val_loss: 1.0672 - val_acc: 0.6986\n",
      "Epoch 15/50\n",
      "1062/1062 [==============================] - 228s - loss: 1.4045 - acc: 0.6043 - val_loss: 1.0203 - val_acc: 0.7153\n",
      "Epoch 16/50\n",
      "1062/1062 [==============================] - 228s - loss: 1.3710 - acc: 0.6159 - val_loss: 1.0069 - val_acc: 0.7202\n",
      "Epoch 17/50\n",
      "1062/1062 [==============================] - 226s - loss: 1.3429 - acc: 0.6209 - val_loss: 0.9792 - val_acc: 0.7229\n",
      "Epoch 18/50\n",
      "1062/1062 [==============================] - 226s - loss: 1.3234 - acc: 0.6263 - val_loss: 0.9811 - val_acc: 0.7236\n",
      "Epoch 19/50\n",
      "1062/1062 [==============================] - 227s - loss: 1.2949 - acc: 0.6345 - val_loss: 0.9432 - val_acc: 0.7331\n",
      "Epoch 20/50\n",
      "1062/1062 [==============================] - 227s - loss: 1.2775 - acc: 0.6378 - val_loss: 0.9255 - val_acc: 0.7442\n",
      "Epoch 21/50\n",
      "1062/1062 [==============================] - 229s - loss: 1.2534 - acc: 0.6462 - val_loss: 0.9220 - val_acc: 0.7435\n",
      "Epoch 22/50\n",
      "1062/1062 [==============================] - 223s - loss: 1.2346 - acc: 0.6528 - val_loss: 0.9084 - val_acc: 0.7472\n",
      "Epoch 23/50\n",
      "1062/1062 [==============================] - 221s - loss: 1.2264 - acc: 0.6535 - val_loss: 0.9002 - val_acc: 0.7454\n",
      "Epoch 24/50\n",
      "1062/1062 [==============================] - 220s - loss: 1.2051 - acc: 0.6587 - val_loss: 0.8779 - val_acc: 0.7557\n",
      "Epoch 25/50\n",
      "1062/1062 [==============================] - 217s - loss: 1.1881 - acc: 0.6646 - val_loss: 0.8683 - val_acc: 0.7542\n",
      "Epoch 26/50\n",
      "1062/1062 [==============================] - 218s - loss: 1.1719 - acc: 0.6674 - val_loss: 0.8940 - val_acc: 0.7518\n",
      "Epoch 27/50\n",
      "1062/1062 [==============================] - 216s - loss: 1.1622 - acc: 0.6719 - val_loss: 0.8499 - val_acc: 0.7598\n",
      "Epoch 28/50\n",
      "1062/1062 [==============================] - 216s - loss: 1.1458 - acc: 0.6766 - val_loss: 0.8383 - val_acc: 0.7662\n",
      "Epoch 29/50\n",
      "1062/1062 [==============================] - 217s - loss: 1.1382 - acc: 0.6782 - val_loss: 0.8416 - val_acc: 0.7667\n",
      "Epoch 30/50\n",
      "1062/1062 [==============================] - 222s - loss: 1.1230 - acc: 0.6816 - val_loss: 0.8392 - val_acc: 0.7638\n",
      "Epoch 31/50\n",
      "1062/1062 [==============================] - 224s - loss: 1.1163 - acc: 0.6840 - val_loss: 0.8258 - val_acc: 0.7705\n",
      "Epoch 32/50\n",
      "1062/1062 [==============================] - 226s - loss: 1.1045 - acc: 0.6869 - val_loss: 0.8158 - val_acc: 0.7722\n",
      "Epoch 33/50\n",
      "1062/1062 [==============================] - 227s - loss: 1.0897 - acc: 0.6918 - val_loss: 0.8480 - val_acc: 0.7606\n",
      "Epoch 34/50\n",
      "1062/1062 [==============================] - 227s - loss: 1.0816 - acc: 0.6944 - val_loss: 0.7987 - val_acc: 0.7788\n",
      "Epoch 35/50\n",
      "1062/1062 [==============================] - 230s - loss: 1.0764 - acc: 0.6956 - val_loss: 0.8104 - val_acc: 0.7762\n",
      "Epoch 36/50\n",
      "1062/1062 [==============================] - 230s - loss: 1.0641 - acc: 0.7005 - val_loss: 0.7867 - val_acc: 0.7842\n",
      "Epoch 37/50\n",
      "1062/1062 [==============================] - 231s - loss: 1.0502 - acc: 0.7006 - val_loss: 0.7814 - val_acc: 0.7800\n",
      "Epoch 38/50\n",
      "1062/1062 [==============================] - 227s - loss: 1.0472 - acc: 0.7043 - val_loss: 0.7853 - val_acc: 0.7817\n",
      "Epoch 39/50\n",
      "1062/1062 [==============================] - 226s - loss: 1.0399 - acc: 0.7064 - val_loss: 0.7610 - val_acc: 0.7880\n",
      "Epoch 40/50\n",
      "1062/1062 [==============================] - 227s - loss: 1.0238 - acc: 0.7092 - val_loss: 0.7601 - val_acc: 0.7883\n",
      "Epoch 41/50\n",
      "1062/1062 [==============================] - 225s - loss: 1.0253 - acc: 0.7100 - val_loss: 0.7641 - val_acc: 0.7883\n",
      "Epoch 42/50\n",
      "1062/1062 [==============================] - 226s - loss: 1.0151 - acc: 0.7116 - val_loss: 0.7646 - val_acc: 0.7858\n",
      "Epoch 43/50\n",
      "1062/1062 [==============================] - 225s - loss: 1.0077 - acc: 0.7145 - val_loss: 0.7479 - val_acc: 0.7939\n",
      "Epoch 44/50\n",
      "1062/1062 [==============================] - 223s - loss: 1.0017 - acc: 0.7167 - val_loss: 0.7520 - val_acc: 0.7933\n",
      "Epoch 45/50\n",
      "1062/1062 [==============================] - 222s - loss: 0.9936 - acc: 0.7196 - val_loss: 0.7466 - val_acc: 0.7943\n",
      "Epoch 46/50\n",
      "1062/1062 [==============================] - 219s - loss: 0.9843 - acc: 0.7196 - val_loss: 0.7464 - val_acc: 0.7932\n",
      "Epoch 47/50\n",
      "1062/1062 [==============================] - 218s - loss: 0.9812 - acc: 0.7226 - val_loss: 0.7521 - val_acc: 0.7913\n",
      "Epoch 48/50\n",
      "1062/1062 [==============================] - 218s - loss: 0.9750 - acc: 0.7239 - val_loss: 0.7483 - val_acc: 0.7897\n",
      "Epoch 49/50\n",
      "1062/1062 [==============================] - 219s - loss: 0.9714 - acc: 0.7240 - val_loss: 0.7340 - val_acc: 0.7973\n",
      "Epoch 50/50\n",
      "1062/1062 [==============================] - 220s - loss: 0.9669 - acc: 0.7266 - val_loss: 0.7287 - val_acc: 0.7969\n"
     ]
    }
   ],
   "source": [
    "# Fit the model on the batches generated by datagen.flow().\n",
    "hist = model.fit_generator(datagen.flow(x_train, y_train,\n",
    "                                 batch_size=batch_size),\n",
    "                    steps_per_epoch=x_train.shape[0] // batch_size,\n",
    "                    epochs=epochs,\n",
    "                    validation_data=(x_test, y_test),\n",
    "                    workers=4)"
   ]
  },
  {
   "cell_type": "code",
   "execution_count": 40,
   "metadata": {
    "collapsed": true
   },
   "outputs": [],
   "source": [
    "def plot_train(hist):\n",
    "    h = hist.history\n",
    "    if 'acc' in h:\n",
    "        meas='acc'\n",
    "        loc='lower right'\n",
    "    else:\n",
    "        meas='loss'\n",
    "        loc='upper right'\n",
    "    plt.plot(hist.history[meas])\n",
    "    plt.plot(hist.history['val_'+meas])\n",
    "    plt.title('model '+meas)\n",
    "    plt.ylabel(meas)\n",
    "    plt.xlabel('epoch')\n",
    "    plt.legend(['train', 'validation'], loc=loc)\n",
    "    "
   ]
  },
  {
   "cell_type": "code",
   "execution_count": 41,
   "metadata": {},
   "outputs": [
    {
     "data": {
      "image/png": "[encoded data removed]",
      "text/plain": [
       "<matplotlib.figure.Figure at 0x13b5d3d30>"
      ]
     },
     "metadata": {},
     "output_type": "display_data"
    }
   ],
   "source": [
    "plot_train(hist)"
   ]
  },
  {
   "cell_type": "markdown",
   "metadata": {},
   "source": [
    "### Evaluate the model"
   ]
  },
  {
   "cell_type": "code",
   "execution_count": 48,
   "metadata": {},
   "outputs": [
    {
     "name": "stdout",
     "output_type": "stream",
     "text": [
      "11968/12000 [============================>.] - ETA: 0sModel Accuracy = 0.80\n",
      "Model Loss = 0.73\n"
     ]
    },
    {
     "data": {
      "text/plain": [
       "(12000, 40)"
      ]
     },
     "execution_count": 48,
     "metadata": {},
     "output_type": "execute_result"
    }
   ],
   "source": [
    "#Evaluate model with test data set and share sample prediction results\n",
    "# evaluation = model.evaluate_generator(datagen.flow(x_test, y_test,\n",
    "#                                                    batch_size=batch_size,\n",
    "#                                                    shuffle=False),\n",
    "#                                       steps=x_test.shape[0] // batch_size,\n",
    "#                                       workers=4)\n",
    "\n",
    "evaluation = model.evaluate(x_test, y_test, batch_size=batch_size)\n",
    "print('Model Accuracy = %.2f' % (evaluation[1]))\n",
    "print('Model Loss = %.2f' % (evaluation[0]))\n",
    "\n",
    "x_test.shape\n",
    "y_test.shape"
   ]
  },
  {
   "cell_type": "markdown",
   "metadata": {},
   "source": [
    "### Make predictions"
   ]
  },
  {
   "cell_type": "code",
   "execution_count": null,
   "metadata": {
    "collapsed": true
   },
   "outputs": [],
   "source": [
    "preds = model.predict(x_test)"
   ]
  },
  {
   "cell_type": "code",
   "execution_count": null,
   "metadata": {},
   "outputs": [],
   "source": [
    "for predict_index, predicted_y in enumerate(preds):\n",
    "    actual_label = classes[np.argmax(y_test[predict_index])]\n",
    "    predicted_label = classes[np.argmax(predicted_y)]\n",
    "    print('Actual Label = %s vs. Predicted Label = %s' % (actual_label,\n",
    "                                                          predicted_label))\n",
    "    if predict_index == predicted_y.shape[0]:\n",
    "        break"
   ]
  },
  {
   "cell_type": "code",
   "execution_count": null,
   "metadata": {
    "collapsed": true
   },
   "outputs": [],
   "source": []
  }
 ],
 "metadata": {
  "kernelspec": {
   "display_name": "Python 3",
   "language": "python",
   "name": "python3"
  },
  "language_info": {
   "codemirror_mode": {
    "name": "ipython",
    "version": 3
   },
   "file_extension": ".py",
   "mimetype": "text/x-python",
   "name": "python",
   "nbconvert_exporter": "python",
   "pygments_lexer": "ipython3",
   "version": "3.6.2"
  }
 },
 "nbformat": 4,
 "nbformat_minor": 2
}
